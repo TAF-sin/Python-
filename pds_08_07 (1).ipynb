{
  "nbformat": 4,
  "nbformat_minor": 0,
  "metadata": {
    "colab": {
      "provenance": []
    },
    "kernelspec": {
      "name": "python3",
      "display_name": "Python 3"
    },
    "language_info": {
      "name": "python"
    }
  },
  "cells": [
    {
      "cell_type": "code",
      "execution_count": null,
      "metadata": {
        "colab": {
          "base_uri": "https://localhost:8080/"
        },
        "id": "63D0jz3tJSOc",
        "outputId": "bae88450-195f-412d-9d10-29126126687a"
      },
      "outputs": [
        {
          "output_type": "stream",
          "name": "stdout",
          "text": [
            "Enter a string: abc\n",
            "abc is not palindrome\n"
          ]
        }
      ],
      "source": [
        "# ques 2 palindrome sequence\n",
        "\n",
        "import math\n",
        "n = input(\"Enter a string: \")\n",
        "\n",
        "wordisPalindrome = True\n",
        "\n",
        "for i in range(math.floor(len(n) / 2)):\n",
        "  if n[i] != n[-i-1]:\n",
        "    wordisPalindrome = False\n",
        "    break\n",
        "\n",
        "print(\"{0} is {1}\".format(n, \"Palindrome\" if wordisPalindrome else \"not palindrome\"))\n",
        "\n"
      ]
    },
    {
      "cell_type": "code",
      "source": [
        "#even or odd\n",
        "#ques 3\n",
        "n=int(input(\"enter a number:\"))\n",
        "\n",
        "if n%2==0:\n",
        "  print(\"even\")\n",
        "else:\n",
        "  print(\"odd\")"
      ],
      "metadata": {
        "colab": {
          "base_uri": "https://localhost:8080/"
        },
        "id": "dREsA84PJngV",
        "outputId": "904b14cd-f6e0-4461-80db-efad9fb30705"
      },
      "execution_count": null,
      "outputs": [
        {
          "output_type": "stream",
          "name": "stdout",
          "text": [
            "enter a number:-8\n",
            "even\n"
          ]
        }
      ]
    },
    {
      "cell_type": "code",
      "source": [
        "#ques 1 ans\n",
        "\n",
        "#write function to find out the maximum number from the list\n",
        "lst=[]\n",
        "numbers = int(input(\"input the total number:\\n\"))\n",
        "for i in range(numbers):\n",
        "  n=int(input(f\"input the number{i+1}:\"))\n",
        "  lst.append(n)\n",
        "\n",
        "#built a function to find out maximum number\n",
        "def find_max(numbers):\n",
        "\n",
        "  if not numbers:\n",
        "    return None\n",
        "\n",
        "  max_number = numbers[0]\n",
        "\n",
        "  for number in numbers:\n",
        "    if number > max_number:\n",
        "      max_number = number\n",
        "  return max_number\n",
        "#Result portion\n",
        "numbers = lst\n",
        "max_number = find_max(numbers)\n",
        "print(f\"The maximum number is: {max_number}\")\n",
        "print(list(lst))"
      ],
      "metadata": {
        "colab": {
          "base_uri": "https://localhost:8080/"
        },
        "id": "zZzLgi1XJ9QN",
        "outputId": "86cbf756-6f21-4a9a-827c-851a67c4c651"
      },
      "execution_count": null,
      "outputs": [
        {
          "output_type": "stream",
          "name": "stdout",
          "text": [
            "input the total number:\n",
            "3\n",
            "input the number1:-10\n",
            "input the number2:0\n",
            "input the number3:0\n",
            "The maximum number is: 0\n",
            "[-10, 0, 0]\n"
          ]
        }
      ]
    },
    {
      "cell_type": "code",
      "source": [],
      "metadata": {
        "id": "FZ3C2prTLyEK"
      },
      "execution_count": null,
      "outputs": []
    }
  ]
}