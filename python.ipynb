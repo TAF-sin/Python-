{
  "nbformat": 4,
  "nbformat_minor": 0,
  "metadata": {
    "colab": {
      "provenance": []
    },
    "kernelspec": {
      "name": "python3",
      "display_name": "Python 3"
    },
    "language_info": {
      "name": "python"
    }
  },
  "cells": [
    {
      "cell_type": "code",
      "execution_count": null,
      "metadata": {
        "colab": {
          "base_uri": "https://localhost:8080/"
        },
        "id": "fXSvtOL2IlEX",
        "outputId": "94390483-a734-447c-f4c3-43121af3c6f9"
      },
      "outputs": [
        {
          "output_type": "stream",
          "name": "stdout",
          "text": [
            "hello world\n"
          ]
        }
      ],
      "source": [
        "print(\"hello world\")\n",
        "\n"
      ]
    },
    {
      "cell_type": "code",
      "source": [
        "num= input(\"provide num:\")\n",
        "age = input(\"provide age:\")\n",
        "print(f\"1.{} is {} years old.\",(name,age))\n"
      ],
      "metadata": {
        "colab": {
          "base_uri": "https://localhost:8080/",
          "height": 106
        },
        "id": "83xLV80kI6OZ",
        "outputId": "b7ea5440-ba67-49ab-c359-e55d26570d22"
      },
      "execution_count": null,
      "outputs": [
        {
          "output_type": "error",
          "ename": "SyntaxError",
          "evalue": "f-string: empty expression not allowed (<ipython-input-4-31b9bc64cbdd>, line 3)",
          "traceback": [
            "\u001b[0;36m  File \u001b[0;32m\"<ipython-input-4-31b9bc64cbdd>\"\u001b[0;36m, line \u001b[0;32m3\u001b[0m\n\u001b[0;31m    print(f\"1.{} is {} years old.\",(name,age))\u001b[0m\n\u001b[0m                                  ^\u001b[0m\n\u001b[0;31mSyntaxError\u001b[0m\u001b[0;31m:\u001b[0m f-string: empty expression not allowed\n"
          ]
        }
      ]
    },
    {
      "cell_type": "code",
      "source": [
        "um= input(\"provide num:\")\n",
        "age = input(\"provide age:\")\n",
        "print(f\"1.{num} is {age} years old.\")"
      ],
      "metadata": {
        "colab": {
          "base_uri": "https://localhost:8080/"
        },
        "id": "fi9hxX9IJWLL",
        "outputId": "b3dedfe5-cac3-473c-c424-6f12955316bd"
      },
      "execution_count": null,
      "outputs": [
        {
          "output_type": "stream",
          "name": "stdout",
          "text": [
            "provide num:towhid\n",
            "provide age:24\n",
            "1.towhid is 24 years old.\n"
          ]
        }
      ]
    },
    {
      "cell_type": "code",
      "source": [
        "string1 = 'welcome to geeks world\\'s'\n",
        "\n",
        "#for line break use ''' sign\n",
        "string2= '''geeks\n",
        "for\n",
        "life'''\n",
        "\n",
        "print (string2)"
      ],
      "metadata": {
        "colab": {
          "base_uri": "https://localhost:8080/"
        },
        "id": "XSKK7zkQJmt6",
        "outputId": "7121f161-d08b-45dd-a69b-d26c6e836597"
      },
      "execution_count": null,
      "outputs": [
        {
          "output_type": "stream",
          "name": "stdout",
          "text": [
            "geeks \n",
            "for \n",
            "life\n"
          ]
        }
      ]
    },
    {
      "cell_type": "markdown",
      "source": [],
      "metadata": {
        "id": "OmjnR-vtMusg"
      }
    },
    {
      "cell_type": "code",
      "source": [
        "#access character using index\n",
        "\n",
        "string = \"life is beautiful\"\n",
        "print(string [-2])"
      ],
      "metadata": {
        "colab": {
          "base_uri": "https://localhost:8080/"
        },
        "id": "2TOR-eRCMiR9",
        "outputId": "3103f100-5ad6-4980-fb82-d43c8de5c1b6"
      },
      "execution_count": null,
      "outputs": [
        {
          "output_type": "stream",
          "name": "stdout",
          "text": [
            "u\n"
          ]
        }
      ]
    },
    {
      "cell_type": "code",
      "source": [
        "#slice\n",
        "string = \"life is beautiful\"\n",
        "print(string [0:5])\n",
        "print(string[:8])\n",
        "print(string[-5:])\n",
        "print(string [8:-5])\n",
        "\n"
      ],
      "metadata": {
        "colab": {
          "base_uri": "https://localhost:8080/"
        },
        "id": "_7b9xUW5Nfzz",
        "outputId": "8cd257f3-46a1-4fac-b235-cef93d87a91b"
      },
      "execution_count": null,
      "outputs": [
        {
          "output_type": "stream",
          "name": "stdout",
          "text": [
            "life \n",
            "life is \n",
            "tiful\n",
            "beau\n"
          ]
        }
      ]
    },
    {
      "cell_type": "code",
      "source": [
        "#date\n",
        "#2nd bracket for use variable\n",
        "date= \"29-05-2000\"\n",
        "print(f\"date: {date[:2]}\")\n",
        "print(f\"month: {date[3:5]}\")\n",
        "print(f\"year:{date[6:]}\")"
      ],
      "metadata": {
        "colab": {
          "base_uri": "https://localhost:8080/"
        },
        "id": "80oUgx3lN-yY",
        "outputId": "c2048b19-8fe0-4c9f-b653-145cedae8899"
      },
      "execution_count": null,
      "outputs": [
        {
          "output_type": "stream",
          "name": "stdout",
          "text": [
            "date: 29\n",
            "month: 05\n",
            "year:2000\n"
          ]
        }
      ]
    },
    {
      "cell_type": "code",
      "source": [
        "#add string\n",
        "s= \"introduction\"\n",
        "print(s)\n",
        "s= s +  \" to\"\n",
        "print(s)\n",
        "s= s + \" python\"\n",
        "print(s)\n"
      ],
      "metadata": {
        "colab": {
          "base_uri": "https://localhost:8080/"
        },
        "id": "Cqg2KcO7P4P2",
        "outputId": "2c5c3134-fa75-4cd1-cda8-3ad199509650"
      },
      "execution_count": null,
      "outputs": [
        {
          "output_type": "stream",
          "name": "stdout",
          "text": [
            "introduction\n",
            "introduction to\n",
            "introduction to python\n"
          ]
        }
      ]
    },
    {
      "cell_type": "code",
      "source": [
        "\n",
        "s= \"introduction to python\"\n",
        "s=s[:15]\n",
        "print(s)\n",
        "#replace\n",
        "s += s;\n",
        "print(s)\n",
        "s= s.replace(\"introduction\",\" welcome\")\n",
        "print(s)\n"
      ],
      "metadata": {
        "colab": {
          "base_uri": "https://localhost:8080/"
        },
        "id": "Lj1xTbqDRn-a",
        "outputId": "4f907b8f-07e4-48e3-fecb-c29110d7b457"
      },
      "execution_count": null,
      "outputs": [
        {
          "output_type": "stream",
          "name": "stdout",
          "text": [
            "introduction to\n",
            "introduction tointroduction to\n",
            " welcome to welcome to\n"
          ]
        }
      ]
    },
    {
      "cell_type": "code",
      "source": [
        "s= \"introduction to python\"\n",
        "s_list = s.split()\n",
        "print(s_list)\n",
        "s_list= s.split(\"o\")\n",
        "print(s_list)\n",
        "s_p = \" \".join(s_list)\n",
        "print(s_p)"
      ],
      "metadata": {
        "colab": {
          "base_uri": "https://localhost:8080/"
        },
        "id": "hSiJN38pTAXu",
        "outputId": "f5255464-e138-4ab1-853c-6d695f4cb73f"
      },
      "execution_count": null,
      "outputs": [
        {
          "output_type": "stream",
          "name": "stdout",
          "text": [
            "['introduction', 'to', 'python']\n",
            "['intr', 'ducti', 'n t', ' pyth', 'n']\n",
            "intr ducti n t  pyth n\n"
          ]
        }
      ]
    },
    {
      "cell_type": "code",
      "source": [
        "#list\n",
        "\n",
        "!ls\n"
      ],
      "metadata": {
        "colab": {
          "base_uri": "https://localhost:8080/"
        },
        "id": "oUr8kt7QVAdh",
        "outputId": "68123d9d-4a1b-4db2-993d-860ba017237d"
      },
      "execution_count": null,
      "outputs": [
        {
          "output_type": "stream",
          "name": "stdout",
          "text": [
            "sample_data\n"
          ]
        }
      ]
    },
    {
      "cell_type": "code",
      "source": [
        "#list\n",
        "fruits=[\"banana\", \"mango\",\"orange\"]\n",
        "print(\"full list:\", fruits)\n",
        "print(\"first fruit:\", fruits[0])\n",
        "print(\"second fruit:\", fruits[1])\n",
        "print(\"third fruit:\", fruits[2])\n",
        "print(f\"types of fruit: {type(fruits[0])}\")\n",
        "#NEGATIVE INDEX\n",
        "\n",
        "print(fruits[-1])\n",
        "print(fruits[-2])\n",
        "print(fruits[-3])\n"
      ],
      "metadata": {
        "colab": {
          "base_uri": "https://localhost:8080/"
        },
        "id": "ZTRECoKJWUrg",
        "outputId": "e25a18f4-b805-4444-e07a-3f07f6c24c7d"
      },
      "execution_count": null,
      "outputs": [
        {
          "output_type": "stream",
          "name": "stdout",
          "text": [
            "full list: ['banana', 'mango', 'orange']\n",
            "first fruit: banana\n",
            "second fruit: mango\n",
            "third fruit: orange\n",
            "types of fruit: <class 'str'>\n",
            "orange\n",
            "mango\n",
            "banana\n"
          ]
        }
      ]
    },
    {
      "cell_type": "code",
      "source": [
        "fruits =  [\"banana\", \"mango\",\"orange\"]\n",
        "fruits.append(\"grapes\")\n",
        "print(fruits)\n",
        "#insert\n",
        "fruits.insert(1,\"apple\")\n",
        "print(fruits)\n",
        "#extend\n",
        "fruits.extend([\"pineapple\",\"guava\"])\n",
        "print(fruits)\n",
        "\n",
        "fruits1= [\"banana\", \"mango\",\"orange\"]\n",
        "fruits2= [\"apple\",\"guava\"]\n",
        "fruits1.extend(fruits2)\n",
        "print(\"fruits 1 extend:\",fruits1)\n"
      ],
      "metadata": {
        "colab": {
          "base_uri": "https://localhost:8080/"
        },
        "id": "PZ_ruQWLWsFe",
        "outputId": "d64722a2-2ef7-4d72-fd82-44281c2123f4"
      },
      "execution_count": null,
      "outputs": [
        {
          "output_type": "stream",
          "name": "stdout",
          "text": [
            "['banana', 'mango', 'orange', 'grapes']\n",
            "['banana', 'apple', 'mango', 'orange', 'grapes']\n",
            "['banana', 'apple', 'mango', 'orange', 'grapes', 'pineapple', 'guava']\n",
            "fruits 1 extend: ['banana', 'mango', 'orange', 'apple', 'guava']\n"
          ]
        }
      ]
    },
    {
      "cell_type": "code",
      "source": [
        "x= \"life is beautiful\"\n",
        "y= len(x)\n",
        "print(y)"
      ],
      "metadata": {
        "id": "9_BqUdCGZE25",
        "colab": {
          "base_uri": "https://localhost:8080/"
        },
        "outputId": "46d5674e-4cd6-4879-b094-9228bd08c009"
      },
      "execution_count": null,
      "outputs": [
        {
          "output_type": "stream",
          "name": "stdout",
          "text": [
            "17\n"
          ]
        }
      ]
    },
    {
      "cell_type": "code",
      "source": [
        "#set\n",
        "\n",
        "#set cant be accessed through index\n",
        "\n",
        "set1 = set([\"a\", \"b\", \"a\",\"c\"])\n",
        "print(type(set1))\n",
        "print(set1)\n",
        "set1.add(\"d\")\n",
        "size = len(set1)\n",
        "print(size)\n",
        "\n",
        "print(set1)\n",
        "set1.remove(\"a\")\n",
        "print(set1)\n",
        "frozenSet1 = frozenset([\"a\", \"b\"])\n",
        "print(frozenSet1)\n",
        "#frozenset.add(\"d\")\n",
        "\n"
      ],
      "metadata": {
        "colab": {
          "base_uri": "https://localhost:8080/",
          "height": 280
        },
        "id": "WEFqO770oxYu",
        "outputId": "4b1a7455-36ba-4a77-f0a5-5e48f9890d22"
      },
      "execution_count": null,
      "outputs": [
        {
          "output_type": "stream",
          "name": "stdout",
          "text": [
            "<class 'set'>\n",
            "{'a', 'b', 'c'}\n",
            "4\n",
            "{'a', 'd', 'b', 'c'}\n",
            "{'d', 'b', 'c'}\n",
            "frozenset({'a', 'b'})\n"
          ]
        },
        {
          "output_type": "error",
          "ename": "AttributeError",
          "evalue": "type object 'frozenset' has no attribute 'add'",
          "traceback": [
            "\u001b[0;31m---------------------------------------------------------------------------\u001b[0m",
            "\u001b[0;31mAttributeError\u001b[0m                            Traceback (most recent call last)",
            "\u001b[0;32m<ipython-input-80-d3fc59b9749e>\u001b[0m in \u001b[0;36m<cell line: 17>\u001b[0;34m()\u001b[0m\n\u001b[1;32m     15\u001b[0m \u001b[0mfrozenSet1\u001b[0m \u001b[0;34m=\u001b[0m \u001b[0mfrozenset\u001b[0m\u001b[0;34m(\u001b[0m\u001b[0;34m[\u001b[0m\u001b[0;34m\"a\"\u001b[0m\u001b[0;34m,\u001b[0m \u001b[0;34m\"b\"\u001b[0m\u001b[0;34m]\u001b[0m\u001b[0;34m)\u001b[0m\u001b[0;34m\u001b[0m\u001b[0;34m\u001b[0m\u001b[0m\n\u001b[1;32m     16\u001b[0m \u001b[0mprint\u001b[0m\u001b[0;34m(\u001b[0m\u001b[0mfrozenSet1\u001b[0m\u001b[0;34m)\u001b[0m\u001b[0;34m\u001b[0m\u001b[0;34m\u001b[0m\u001b[0m\n\u001b[0;32m---> 17\u001b[0;31m \u001b[0mfrozenset\u001b[0m\u001b[0;34m.\u001b[0m\u001b[0madd\u001b[0m\u001b[0;34m(\u001b[0m\u001b[0;34m\"d\"\u001b[0m\u001b[0;34m)\u001b[0m\u001b[0;34m\u001b[0m\u001b[0;34m\u001b[0m\u001b[0m\n\u001b[0m",
            "\u001b[0;31mAttributeError\u001b[0m: type object 'frozenset' has no attribute 'add'"
          ]
        }
      ]
    },
    {
      "cell_type": "code",
      "source": [
        "#Union\n",
        "people = {\"ray\", \"feluda\", \"topshe\"}\n",
        "detective = {\"Bomkesh\", \"batman\",\"feluda\"}\n",
        "dracula = {\"Deepanshu\", \"Raju\"}\n",
        "\n",
        "#Union using .union method\n",
        "population = people.union(detective)\n",
        "\n",
        "print(\"population:: \", population)\n",
        "print(\"people \", people)\n",
        "population= people|detective\n",
        "print(\"population:: \", population)\n",
        "peopleAndVampire1 = people.intersection(detective)\n",
        "print(\"peopleAndVampire1:: \", peopleAnddetective)\n",
        "peopleAndVampire2 = people & vampires\n",
        "print(\"peopleAndVampire2:: \", peopleAnddetective)"
      ],
      "metadata": {
        "colab": {
          "base_uri": "https://localhost:8080/",
          "height": 263
        },
        "id": "YN8Di0V6r45g",
        "outputId": "a307c1c3-6849-4a2c-abc6-f654adc9c664"
      },
      "execution_count": null,
      "outputs": [
        {
          "output_type": "stream",
          "name": "stdout",
          "text": [
            "population::  {'batman', 'Bomkesh', 'feluda', 'topshe', 'ray'}\n",
            "people  {'feluda', 'topshe', 'ray'}\n",
            "population::  {'batman', 'Bomkesh', 'feluda', 'topshe', 'ray'}\n"
          ]
        },
        {
          "output_type": "error",
          "ename": "NameError",
          "evalue": "name 'peopleAnddetective' is not defined",
          "traceback": [
            "\u001b[0;31m---------------------------------------------------------------------------\u001b[0m",
            "\u001b[0;31mNameError\u001b[0m                                 Traceback (most recent call last)",
            "\u001b[0;32m<ipython-input-86-53ff6fc1b903>\u001b[0m in \u001b[0;36m<cell line: 14>\u001b[0;34m()\u001b[0m\n\u001b[1;32m     12\u001b[0m \u001b[0mprint\u001b[0m\u001b[0;34m(\u001b[0m\u001b[0;34m\"population:: \"\u001b[0m\u001b[0;34m,\u001b[0m \u001b[0mpopulation\u001b[0m\u001b[0;34m)\u001b[0m\u001b[0;34m\u001b[0m\u001b[0;34m\u001b[0m\u001b[0m\n\u001b[1;32m     13\u001b[0m \u001b[0mpeopleAndVampire1\u001b[0m \u001b[0;34m=\u001b[0m \u001b[0mpeople\u001b[0m\u001b[0;34m.\u001b[0m\u001b[0mintersection\u001b[0m\u001b[0;34m(\u001b[0m\u001b[0mdetective\u001b[0m\u001b[0;34m)\u001b[0m\u001b[0;34m\u001b[0m\u001b[0;34m\u001b[0m\u001b[0m\n\u001b[0;32m---> 14\u001b[0;31m \u001b[0mprint\u001b[0m\u001b[0;34m(\u001b[0m\u001b[0;34m\"peopleAndVampire1:: \"\u001b[0m\u001b[0;34m,\u001b[0m \u001b[0mpeopleAnddetective\u001b[0m\u001b[0;34m)\u001b[0m\u001b[0;34m\u001b[0m\u001b[0;34m\u001b[0m\u001b[0m\n\u001b[0m\u001b[1;32m     15\u001b[0m \u001b[0mpeopleAndVampire2\u001b[0m \u001b[0;34m=\u001b[0m \u001b[0mpeople\u001b[0m \u001b[0;34m&\u001b[0m \u001b[0mvampires\u001b[0m\u001b[0;34m\u001b[0m\u001b[0;34m\u001b[0m\u001b[0m\n\u001b[1;32m     16\u001b[0m \u001b[0mprint\u001b[0m\u001b[0;34m(\u001b[0m\u001b[0;34m\"peopleAndVampire2:: \"\u001b[0m\u001b[0;34m,\u001b[0m \u001b[0mpeopleAnddetective\u001b[0m\u001b[0;34m)\u001b[0m\u001b[0;34m\u001b[0m\u001b[0;34m\u001b[0m\u001b[0m\n",
            "\u001b[0;31mNameError\u001b[0m: name 'peopleAnddetective' is not defined"
          ]
        }
      ]
    },
    {
      "cell_type": "code",
      "source": [
        "my_dict = {'1': 'Geeks', '2': 'For', '3': 'Geeks'}\n",
        "print(my_dict)\n",
        "\n",
        "my_dict.clear()\n",
        "print(my_dict)\n"
      ],
      "metadata": {
        "id": "wcsNRdvItO21",
        "colab": {
          "base_uri": "https://localhost:8080/"
        },
        "outputId": "5fa35a80-192e-4db3-c990-bc0603628da3"
      },
      "execution_count": null,
      "outputs": [
        {
          "output_type": "stream",
          "name": "stdout",
          "text": [
            "{'1': 'Geeks', '2': 'For', '3': 'Geeks'}\n",
            "{}\n"
          ]
        }
      ]
    },
    {
      "cell_type": "code",
      "source": [
        "t = (1, 2, 3, 4)\n",
        "\n",
        "# Convert to list\n",
        "lst = list(t)\n",
        "# Modify the list\n",
        "lst[1] = 5\n",
        "\n",
        "# Convert back to tuple\n",
        "t = tuple(lst)\n",
        "print(t)  # Output: (1, 5, 3, 4)\n"
      ],
      "metadata": {
        "colab": {
          "base_uri": "https://localhost:8080/"
        },
        "id": "QhoWI4Jnd7QL",
        "outputId": "0519a07b-29e5-4557-e5c2-a6330e7672e2"
      },
      "execution_count": null,
      "outputs": [
        {
          "output_type": "stream",
          "name": "stdout",
          "text": [
            "(1, 5, 3, 4)\n"
          ]
        }
      ]
    },
    {
      "cell_type": "code",
      "source": [
        "height=float (input(\"provide height:\"))\n",
        "weight=float (input(\"provide weight:\"))\n",
        "BMI= weight/ (height ** 2)\n",
        "print(f\"your BMI is: {BMI}\")\n",
        "\n",
        "if BMI < 18.5:\n",
        "    print(\"You are underweight.\")\n",
        "elif BMI >= 18.5 and BMI < 25:\n",
        "    print(\"You are within the healthy weight range.\")\n",
        "elif BMI >= 25 and BMI< 30:\n",
        "    print(\"You are overweight.\")\n",
        "else:\n",
        "    print(\"You are obese.\")"
      ],
      "metadata": {
        "colab": {
          "base_uri": "https://localhost:8080/"
        },
        "id": "YDYJ2ZSCUmEH",
        "outputId": "fe743f35-de13-4d12-eeb0-cd78f3e18be2"
      },
      "execution_count": null,
      "outputs": [
        {
          "output_type": "stream",
          "name": "stdout",
          "text": [
            "provide height:1.7\n",
            "provide weight:66\n",
            "your BMI is: 22.837370242214536\n",
            "You are within the healthy weight range.\n"
          ]
        }
      ]
    },
    {
      "cell_type": "code",
      "source": [
        "#dictionary\n",
        "my_dict= {\"1:geeks\",\"2:for\",\"3:geeks\"}\n",
        "print(my_dict)\n",
        "my_dict.clear()\n",
        "print(my_dict)"
      ],
      "metadata": {
        "colab": {
          "base_uri": "https://localhost:8080/"
        },
        "id": "8_2y1_W_XyGu",
        "outputId": "c9580d6e-776e-498d-d5cb-6d75f4e809a2"
      },
      "execution_count": null,
      "outputs": [
        {
          "output_type": "stream",
          "name": "stdout",
          "text": [
            "{'3:geeks', '1:geeks', '2:for'}\n",
            "set()\n"
          ]
        }
      ]
    },
    {
      "cell_type": "code",
      "source": [
        "abc= {\"1\":\"geeks\",\"2\":\"for\",\"3\":\"geeks\"}\n",
        "print(abc)\n",
        "abc.clear()\n",
        "print(abc)"
      ],
      "metadata": {
        "colab": {
          "base_uri": "https://localhost:8080/"
        },
        "id": "-aUMcKLBYcxN",
        "outputId": "8effe426-0da3-40d9-a43f-a44d9fe58256"
      },
      "execution_count": null,
      "outputs": [
        {
          "output_type": "stream",
          "name": "stdout",
          "text": [
            "{'1': 'geeks', '2': 'for', '3': 'geeks'}\n",
            "{}\n"
          ]
        }
      ]
    },
    {
      "cell_type": "code",
      "source": [
        "d1= {\"name\": \"TAPU\", \"age\":\"23\"}\n",
        "print(d1.get(\"age\"))"
      ],
      "metadata": {
        "colab": {
          "base_uri": "https://localhost:8080/"
        },
        "id": "KXm46pQzaQ_t",
        "outputId": "3f07d3a6-caf6-4ced-ff5a-fb255a726c81"
      },
      "execution_count": null,
      "outputs": [
        {
          "output_type": "stream",
          "name": "stdout",
          "text": [
            "23\n"
          ]
        }
      ]
    },
    {
      "cell_type": "code",
      "source": [
        "people = {\"name\":\"Raju\", \"age\":24, \"country\":\"bangladesh\" }\n",
        "\n",
        "#print(people.get(\"age\"))\n",
        "#print(people.get(\"country\"))\n",
        "#print(people.get(\"name\"))\n",
        "\n",
        "#print(people[\"name\"])\n",
        "\n",
        "print(list(people.keys()))\n",
        "print(list(people.values()))"
      ],
      "metadata": {
        "colab": {
          "base_uri": "https://localhost:8080/"
        },
        "id": "omKjKo7NcZkz",
        "outputId": "c381794a-67a9-4ca8-ba06-33782d3c59d3"
      },
      "execution_count": null,
      "outputs": [
        {
          "output_type": "stream",
          "name": "stdout",
          "text": [
            "['name', 'age', 'country']\n",
            "['Raju', 24, 'bangladesh']\n"
          ]
        }
      ]
    },
    {
      "cell_type": "code",
      "source": [
        "people = {\"name\":\"Raju\", \"age\":24, \"country\":\"bangladesh\" }\n",
        "print(list(people.items()))\n",
        "print(people.items())\n",
        "print(list(people.items())[0])\n",
        "print(list(people.items())[0][1])"
      ],
      "metadata": {
        "colab": {
          "base_uri": "https://localhost:8080/"
        },
        "id": "wX0Y02CPc_Fr",
        "outputId": "520564eb-be37-4c4e-f04e-9e4039292b26"
      },
      "execution_count": null,
      "outputs": [
        {
          "output_type": "stream",
          "name": "stdout",
          "text": [
            "[('name', 'Raju'), ('age', 24), ('country', 'bangladesh')]\n",
            "dict_items([('name', 'Raju'), ('age', 24), ('country', 'bangladesh')])\n",
            "('name', 'Raju')\n",
            "Raju\n"
          ]
        }
      ]
    },
    {
      "cell_type": "code",
      "source": [
        "detective={\"name\": \"Feluda\",\"age\":28,\"country\":\"India\"}\n",
        "people = {\"name\":\"Feluda\", \"age\":29, \"country\":\"India\",\"Religion\":\"what\" }\n",
        "#detective.update(people)\n",
        "#print(detective)\n",
        "#print(people)\n",
        "#detective.pop(\"name\")\n",
        "#print(detective)\n",
        "detective.popitem()#delete last pair\n",
        "print(detective)\n"
      ],
      "metadata": {
        "colab": {
          "base_uri": "https://localhost:8080/"
        },
        "id": "bmYC_-Q9eIr7",
        "outputId": "c8a3fab5-591a-48d1-b712-99de3a7f9bcd"
      },
      "execution_count": null,
      "outputs": [
        {
          "output_type": "stream",
          "name": "stdout",
          "text": [
            "{'name': 'Feluda', 'age': 28}\n"
          ]
        }
      ]
    },
    {
      "cell_type": "code",
      "source": [
        "person={\n",
        "    \"name\": \"Mr.xyz\",\n",
        "    \"age\": 23,\n",
        "    \"country\": \"Bangladesh\",\n",
        "    \"favourite bands\":[\"artcell\",\"warfaze\", \"Aurthohin\"],\n",
        "    \"visited place\":set([\"dhk\",\"ctg\",\"cox\"]),\n",
        "    \"relatives\":{\n",
        "        \"father\":\"Mr.yzx\",\n",
        "        \"mother\":\"yxz\"\n",
        "    }\n",
        "}\n",
        "print(person)\n",
        "\n",
        "print(\"Bands:\",person[\"favourite bands\"])\n",
        "print(\"visited place:\",person[\"visited place\"])\n",
        "print(\"Relatives:\",person[\"relatives\"][\"father\"])\n",
        "print(\"favourite band:\",person[\"favourite bands\"][1])\n"
      ],
      "metadata": {
        "colab": {
          "base_uri": "https://localhost:8080/"
        },
        "id": "8w0MKlO7gBvq",
        "outputId": "83e2eddb-16b2-4329-8577-c93511a3f0ff"
      },
      "execution_count": null,
      "outputs": [
        {
          "output_type": "stream",
          "name": "stdout",
          "text": [
            "{'name': 'Mr.xyz', 'age': 23, 'country': 'Bangladesh', 'favourite bands': ['artcell', 'warfaze', 'Aurthohin'], 'visited place': {'ctg', 'cox', 'dhk'}, 'relatives': {'father': 'Mr.yzx', 'mother': 'yxz'}}\n",
            "Bands: ['artcell', 'warfaze', 'Aurthohin']\n",
            "visited place: {'ctg', 'cox', 'dhk'}\n",
            "Relatives: Mr.yzx\n",
            "favourite band: warfaze\n"
          ]
        }
      ]
    },
    {
      "cell_type": "code",
      "source": [
        "person2 = {\n",
        "    'name': 'Mr. AB',\n",
        "    'age': 25,\n",
        "    'favourite_bands': [\n",
        "        'Border',\n",
        "        'Bay of Bengal',\n",
        "        'Nemesis'\n",
        "    ],\n",
        "    'visted_place': set(['Dhaka', 'Sylhet', 'Barisal', 'Dhaka']),\n",
        "    'relatives': {\n",
        "        'brother': 'Mr. QW',\n",
        "        'uncle': 'Mr. sdf'\n",
        "    }\n",
        "}\n",
        "members=[person1,person2]\n",
        "print(members)"
      ],
      "metadata": {
        "id": "ag23Mi8sjiK5"
      },
      "execution_count": null,
      "outputs": []
    },
    {
      "cell_type": "code",
      "source": [
        "#array\n",
        "from array import array\n",
        "arr = array('i', [1, 2, 3, 4, 5])\n",
        "print(arr)\n",
        "arr2=array('i',[a,b,1,2,3,4,5])\n",
        "print(arr2)\n"
      ],
      "metadata": {
        "id": "zngPzxdXlX1g",
        "colab": {
          "base_uri": "https://localhost:8080/",
          "height": 211
        },
        "outputId": "3d252db9-0169-465d-b662-179a47991ab7"
      },
      "execution_count": null,
      "outputs": [
        {
          "output_type": "stream",
          "name": "stdout",
          "text": [
            "array('i', [1, 2, 3, 4, 5])\n"
          ]
        },
        {
          "output_type": "error",
          "ename": "NameError",
          "evalue": "name 'a' is not defined",
          "traceback": [
            "\u001b[0;31m---------------------------------------------------------------------------\u001b[0m",
            "\u001b[0;31mNameError\u001b[0m                                 Traceback (most recent call last)",
            "\u001b[0;32m<ipython-input-66-0fb99b08f2ac>\u001b[0m in \u001b[0;36m<cell line: 5>\u001b[0;34m()\u001b[0m\n\u001b[1;32m      3\u001b[0m \u001b[0marr\u001b[0m \u001b[0;34m=\u001b[0m \u001b[0marray\u001b[0m\u001b[0;34m(\u001b[0m\u001b[0;34m'i'\u001b[0m\u001b[0;34m,\u001b[0m \u001b[0;34m[\u001b[0m\u001b[0;36m1\u001b[0m\u001b[0;34m,\u001b[0m \u001b[0;36m2\u001b[0m\u001b[0;34m,\u001b[0m \u001b[0;36m3\u001b[0m\u001b[0;34m,\u001b[0m \u001b[0;36m4\u001b[0m\u001b[0;34m,\u001b[0m \u001b[0;36m5\u001b[0m\u001b[0;34m]\u001b[0m\u001b[0;34m)\u001b[0m\u001b[0;34m\u001b[0m\u001b[0;34m\u001b[0m\u001b[0m\n\u001b[1;32m      4\u001b[0m \u001b[0mprint\u001b[0m\u001b[0;34m(\u001b[0m\u001b[0marr\u001b[0m\u001b[0;34m)\u001b[0m\u001b[0;34m\u001b[0m\u001b[0;34m\u001b[0m\u001b[0m\n\u001b[0;32m----> 5\u001b[0;31m \u001b[0marr2\u001b[0m\u001b[0;34m=\u001b[0m\u001b[0marray\u001b[0m\u001b[0;34m(\u001b[0m\u001b[0;34m'i'\u001b[0m\u001b[0;34m,\u001b[0m\u001b[0;34m[\u001b[0m\u001b[0ma\u001b[0m\u001b[0;34m,\u001b[0m\u001b[0mb\u001b[0m\u001b[0;34m,\u001b[0m\u001b[0;36m1\u001b[0m\u001b[0;34m,\u001b[0m\u001b[0;36m2\u001b[0m\u001b[0;34m,\u001b[0m\u001b[0;36m3\u001b[0m\u001b[0;34m,\u001b[0m\u001b[0;36m4\u001b[0m\u001b[0;34m,\u001b[0m\u001b[0;36m5\u001b[0m\u001b[0;34m]\u001b[0m\u001b[0;34m)\u001b[0m\u001b[0;34m\u001b[0m\u001b[0;34m\u001b[0m\u001b[0m\n\u001b[0m\u001b[1;32m      6\u001b[0m \u001b[0mprint\u001b[0m\u001b[0;34m(\u001b[0m\u001b[0marr2\u001b[0m\u001b[0;34m)\u001b[0m\u001b[0;34m\u001b[0m\u001b[0;34m\u001b[0m\u001b[0m\n",
            "\u001b[0;31mNameError\u001b[0m: name 'a' is not defined"
          ]
        }
      ]
    },
    {
      "cell_type": "code",
      "source": [
        "i = int(input(\"Enter a number \"))\n",
        "if i > 10:\n",
        "  print(\"Greater than 10\")\n",
        "else:\n",
        "  print(\"less than 10\")\n"
      ],
      "metadata": {
        "id": "REptQM7glwWf",
        "colab": {
          "base_uri": "https://localhost:8080/"
        },
        "outputId": "22f1093d-3899-4cb1-8437-e6aacc0fc3d1"
      },
      "execution_count": null,
      "outputs": [
        {
          "output_type": "stream",
          "name": "stdout",
          "text": [
            "Enter a number 09\n",
            "less than 10\n"
          ]
        }
      ]
    },
    {
      "cell_type": "code",
      "source": [
        "i=int(input(\"Enter a number:\"))\n",
        "if i%2==0:\n",
        "    print(\"Even\")\n",
        "\n",
        "else:\n",
        "    print(\"odd\")"
      ],
      "metadata": {
        "colab": {
          "base_uri": "https://localhost:8080/"
        },
        "id": "Ii5O6bXqrC1A",
        "outputId": "61caa69f-4621-495f-c84f-632aba80e7cc"
      },
      "execution_count": null,
      "outputs": [
        {
          "output_type": "stream",
          "name": "stdout",
          "text": [
            "Enter a number:15\n",
            "odd\n"
          ]
        }
      ]
    },
    {
      "cell_type": "code",
      "source": [
        "i=int(input(\"Enter a number:\"))\n",
        "if i < 1000 and i%3==0 and i%2==0 :\n",
        "  print(\"condition met\")\n",
        "elif i > 1000 and i%5==0 and i%2==0:\n",
        "  print(\"condition met\")\n",
        "else:\n",
        "  print(\"condition not met\")"
      ],
      "metadata": {
        "colab": {
          "base_uri": "https://localhost:8080/"
        },
        "id": "By85lBx4sKwW",
        "outputId": "baa1fcc8-cb15-483b-dc48-0144b50b7bef"
      },
      "execution_count": null,
      "outputs": [
        {
          "output_type": "stream",
          "name": "stdout",
          "text": [
            "Enter a number:10200\n",
            "condition met\n"
          ]
        }
      ]
    },
    {
      "cell_type": "code",
      "source": [
        "#loop\n",
        "for i in range(5):\n",
        "  print(i)"
      ],
      "metadata": {
        "id": "OLfOwvMCvIWd",
        "colab": {
          "base_uri": "https://localhost:8080/"
        },
        "outputId": "54aabe6c-6e29-4dac-dae9-44b56cf7c5b0"
      },
      "execution_count": null,
      "outputs": [
        {
          "output_type": "stream",
          "name": "stdout",
          "text": [
            "0\n",
            "1\n",
            "2\n",
            "3\n",
            "4\n"
          ]
        }
      ]
    },
    {
      "cell_type": "code",
      "source": [
        "for i in range(10,15):\n",
        "  print(i)"
      ],
      "metadata": {
        "colab": {
          "base_uri": "https://localhost:8080/"
        },
        "id": "_Jo3hqh-2uPZ",
        "outputId": "9622e33b-9833-4bf1-f462-e00407d91000"
      },
      "execution_count": null,
      "outputs": [
        {
          "output_type": "stream",
          "name": "stdout",
          "text": [
            "10\n",
            "11\n",
            "12\n",
            "13\n",
            "14\n"
          ]
        }
      ]
    },
    {
      "cell_type": "code",
      "source": [
        "name=input(\"Enter your name:\")\n",
        "for i in name:\n",
        "  print(i)"
      ],
      "metadata": {
        "colab": {
          "base_uri": "https://localhost:8080/"
        },
        "id": "kLsbJkhM27qI",
        "outputId": "43eb3c11-8687-4fcf-9373-edd3cd0f3cae"
      },
      "execution_count": null,
      "outputs": [
        {
          "output_type": "stream",
          "name": "stdout",
          "text": [
            "Enter your name:towhidul\n",
            "t\n",
            "o\n",
            "w\n",
            "h\n",
            "i\n",
            "d\n",
            "u\n",
            "l\n"
          ]
        }
      ]
    },
    {
      "cell_type": "code",
      "source": [
        "names = []\n",
        "number = int(input(\"Enter the number of students: \"))\n",
        "\n",
        "for i in range(number):\n",
        "  name = input(f\"Enter name of student {i+1}: \")\n",
        "  names.append(name)\n",
        "\n",
        "print(names)\n"
      ],
      "metadata": {
        "colab": {
          "base_uri": "https://localhost:8080/"
        },
        "id": "9nUp8uMT3C5J",
        "outputId": "43e272f9-57ab-4298-f4f4-b8ebd581233e"
      },
      "execution_count": null,
      "outputs": [
        {
          "output_type": "stream",
          "name": "stdout",
          "text": [
            "Enter the number of students: 5\n",
            "Enter name of student 1: antu\n",
            "Enter name of student 2: tat\n",
            "Enter name of student 3: emn\n",
            "Enter name of student 4: rrr\n",
            "Enter name of student 5: ttt\n",
            "['antu', 'tat', 'emn', 'rrr', 'ttt']\n"
          ]
        }
      ]
    },
    {
      "cell_type": "code",
      "source": [
        "l=[]\n",
        "number=int(input())\n",
        "for i in range(number):\n"
      ],
      "metadata": {
        "colab": {
          "base_uri": "https://localhost:8080/"
        },
        "id": "i5Ivha425AKn",
        "outputId": "8d6beb58-9562-4d46-bd3b-9d2ad5c7116e"
      },
      "execution_count": null,
      "outputs": [
        {
          "output_type": "stream",
          "name": "stdout",
          "text": [
            "1\n",
            "2\n",
            "3\n",
            "4\n",
            "5\n"
          ]
        }
      ]
    },
    {
      "cell_type": "code",
      "source": [
        "lst=[1,2,3,4,5]\n",
        "sum=0\n",
        "for i in range(len(lst)):\n",
        "  sum = sum + lst[i]\n",
        "\n",
        "print(sum)"
      ],
      "metadata": {
        "colab": {
          "base_uri": "https://localhost:8080/"
        },
        "id": "bIua1UPq5K3W",
        "outputId": "bdcae4ef-0ec0-4378-c8dc-a757c157b461"
      },
      "execution_count": null,
      "outputs": [
        {
          "output_type": "stream",
          "name": "stdout",
          "text": [
            "15\n"
          ]
        }
      ]
    },
    {
      "cell_type": "code",
      "source": [
        "lst = []\n",
        "number = int(input(\"the total number:\"))\n",
        "for i in range(number):\n",
        "  n = int(input(\"input the value:\"))\n",
        "  lst.append(n)\n",
        "print(lst)\n",
        "\n",
        "sum = 0\n",
        "for i in range(len(lst)):\n",
        "  sum = sum + lst[i]\n",
        "\n",
        "print(sum)\n"
      ],
      "metadata": {
        "colab": {
          "base_uri": "https://localhost:8080/"
        },
        "id": "1--AEoJ55usZ",
        "outputId": "52175def-c1c2-41e1-979a-78ac97917221"
      },
      "execution_count": null,
      "outputs": [
        {
          "output_type": "stream",
          "name": "stdout",
          "text": [
            "the total number:4\n",
            "input the value:10\n",
            "input the value:20\n",
            "input the value:30\n",
            "input the value:40\n",
            "[10, 20, 30, 40]\n",
            "100\n"
          ]
        }
      ]
    },
    {
      "cell_type": "code",
      "source": [
        "lst= [1,2,3,8,7]\n",
        "target=9\n",
        "for i in range(len(lst)):\n",
        "  sum=lst[i]\n",
        "  for j in range(i+1,len(lst)):\n",
        "    if sum+lst[j]==target:\n",
        "      print(i,j)\n",
        "\n"
      ],
      "metadata": {
        "colab": {
          "base_uri": "https://localhost:8080/"
        },
        "id": "wD0BsxZp7-yD",
        "outputId": "11a4ee05-9944-411c-f23f-94eeea741782"
      },
      "execution_count": null,
      "outputs": [
        {
          "output_type": "stream",
          "name": "stdout",
          "text": [
            "0 3\n",
            "1 4\n"
          ]
        }
      ]
    },
    {
      "cell_type": "code",
      "source": [
        "nums = [2,4,6,7,8,10,11]\n",
        "target=17\n",
        "\n",
        "for i in range(len(nums)):\n",
        "  for j in range(len(nums)):\n",
        "    #print(j)\n",
        "    if(i!=j and nums[i]+nums[j]==target):\n",
        "      print(i,j)\n"
      ],
      "metadata": {
        "colab": {
          "base_uri": "https://localhost:8080/"
        },
        "id": "-48IRhsT-btz",
        "outputId": "9969f410-d62c-4038-9621-991954b1bd2c"
      },
      "execution_count": null,
      "outputs": [
        {
          "output_type": "stream",
          "name": "stdout",
          "text": [
            "2 6\n",
            "3 5\n",
            "5 3\n",
            "6 2\n"
          ]
        }
      ]
    },
    {
      "cell_type": "code",
      "source": [
        "a= int(input(\"first number:\"))\n",
        "b= int(input(\"second number:\"))\n",
        "for i in range(b+1):\n",
        "  print(f\"{a}*{i}={a*i}\")"
      ],
      "metadata": {
        "colab": {
          "base_uri": "https://localhost:8080/"
        },
        "id": "5xfGUB1xBblM",
        "outputId": "2698bf74-1430-465d-96c8-c55bb9e1c1ba"
      },
      "execution_count": null,
      "outputs": [
        {
          "output_type": "stream",
          "name": "stdout",
          "text": [
            "first number:4\n",
            "second number:3\n",
            "4*0=0\n",
            "4*1=4\n",
            "4*2=8\n",
            "4*3=12\n"
          ]
        }
      ]
    },
    {
      "cell_type": "code",
      "source": [
        "a=5\n",
        "b=6\n",
        "for i in range(b+1):\n",
        "  print(f\"{i+1}| {a}*{i}={a*i}\")\n"
      ],
      "metadata": {
        "colab": {
          "base_uri": "https://localhost:8080/"
        },
        "id": "PlX6HE9AGEnA",
        "outputId": "321f0601-3a04-45e1-8410-216771a46e6c"
      },
      "execution_count": null,
      "outputs": [
        {
          "output_type": "stream",
          "name": "stdout",
          "text": [
            "1| 5*0=0\n",
            "2| 5*1=5\n",
            "3| 5*2=10\n",
            "4| 5*3=15\n",
            "5| 5*4=20\n",
            "6| 5*5=25\n",
            "7| 5*6=30\n"
          ]
        }
      ]
    },
    {
      "cell_type": "code",
      "source": [
        "l1=[1,2,3,4,5,6,7]\n",
        "leven=[]\n",
        "sum_of_odd_number=0\n",
        "sum_of_even_number=0\n",
        "for i in range(len(l1)):\n",
        "  a=l1[i]\n",
        "  if l1[i]%2==0:\n",
        "    sum_of_even_number+=a\n",
        "  else:\n",
        "    sum_of_odd_number+=a\n",
        "print(sum_of_even_number)\n",
        "print(sum_of_odd_number)\n",
        "\n",
        "\n",
        "\n",
        "\n"
      ],
      "metadata": {
        "colab": {
          "base_uri": "https://localhost:8080/"
        },
        "id": "qmyVhh7VGNbv",
        "outputId": "7f5691cc-270c-4d0a-f238-a6f3a1552ce8"
      },
      "execution_count": null,
      "outputs": [
        {
          "output_type": "stream",
          "name": "stdout",
          "text": [
            "12\n",
            "16\n"
          ]
        }
      ]
    },
    {
      "cell_type": "code",
      "source": [
        "vowels=\"aAeEiIoOuU\"\n",
        "sen=\"BanglAdEsh is my coUntry\"\n",
        "vowelsinSen=\"\"\n",
        "for i in range(len(sen)):\n",
        "  if sen[i] in vowels:\n",
        "    vowelsinSen+=sen[i]\n",
        "\n",
        "\n",
        "    print(\"vowels:\",sen[i])\n",
        "print(vowelsinSen)"
      ],
      "metadata": {
        "colab": {
          "base_uri": "https://localhost:8080/"
        },
        "id": "0a24WfahH2q6",
        "outputId": "9f178e2c-6409-45ba-ff92-a15ed8c93255"
      },
      "execution_count": null,
      "outputs": [
        {
          "output_type": "stream",
          "name": "stdout",
          "text": [
            "vowels: a\n",
            "vowels: A\n",
            "vowels: E\n",
            "vowels: i\n",
            "vowels: o\n",
            "vowels: U\n",
            "aAEioU\n"
          ]
        }
      ]
    },
    {
      "cell_type": "code",
      "source": [
        "vowels=\"aAeEiIoOuU\"\n",
        "sen=str(input())\n",
        "for i in range(len(sen)):\n",
        "  if sen[i] in vowels:\n",
        "    print(\"vowels:\",sen[i])"
      ],
      "metadata": {
        "colab": {
          "base_uri": "https://localhost:8080/"
        },
        "id": "2Zj9VdCgL8so",
        "outputId": "abd2a8e7-0bb7-4b1a-b16c-1c2a1b42643f"
      },
      "execution_count": null,
      "outputs": [
        {
          "output_type": "stream",
          "name": "stdout",
          "text": [
            "bangladesh\n",
            "vowels: a\n",
            "vowels: a\n",
            "vowels: e\n"
          ]
        }
      ]
    },
    {
      "cell_type": "code",
      "source": [
        "l1 = [1, 4, 7, 14, 3, 2, 1]\n",
        "\n",
        "sumOfOddNumber = 0\n",
        "sumOfEvenNumber = 0\n",
        "\n",
        "for i in range(len(l1)):\n",
        "  a = l1[i]\n",
        "  if l1[i] % 2 == 0:\n",
        "    sumOfEvenNumber = sumOfEvenNumber + l1[i]\n",
        "  else:\n",
        "    sumOfOddNumber += l1[i]\n",
        "\n",
        "print(f\"Sum of Odd Number {sumOfOddNumber}\")\n",
        "print(f\"Sum of Even Number {sumOfEvenNumber}\")"
      ],
      "metadata": {
        "id": "FYNfMFYVNFOB",
        "colab": {
          "base_uri": "https://localhost:8080/"
        },
        "outputId": "64e4277e-eebb-4ef6-b17a-f84acd6a4030"
      },
      "execution_count": null,
      "outputs": [
        {
          "output_type": "stream",
          "name": "stdout",
          "text": [
            "Sum of Odd Number 12\n",
            "Sum of Even Number 20\n"
          ]
        }
      ]
    },
    {
      "cell_type": "code",
      "source": [
        "s1= str(input(\"enter string:\"))\n",
        "Vowels=\"AaEeIiOoUu\"\n",
        "vowelinsen=\"\"\n",
        "for i in range(len(s1)):\n",
        "  if s1[i] in Vowels:\n",
        "\n",
        "    vowelinsen+=s1[i]\n",
        "  if (len(vowelinsen)==3):\n",
        "    break\n",
        "\n",
        "print(vowelinsen)\n"
      ],
      "metadata": {
        "colab": {
          "base_uri": "https://localhost:8080/"
        },
        "id": "b-9reHb-Fm8B",
        "outputId": "99b290f4-fde4-450b-c7c7-c4984fc54d8d"
      },
      "execution_count": null,
      "outputs": [
        {
          "output_type": "stream",
          "name": "stdout",
          "text": [
            "enter string:BANGLADESH IS  A \n",
            "AAE\n"
          ]
        }
      ]
    },
    {
      "cell_type": "code",
      "source": [
        "names = [\"Rahim\", \"Karim\", \"Maria\", \"Tevez\", \"Dybala\", \"Martinez\", \"Otamendi\"]\n",
        "\n",
        "for i in names:\n",
        "  print(i)"
      ],
      "metadata": {
        "id": "HKADWrthGsm7",
        "colab": {
          "base_uri": "https://localhost:8080/"
        },
        "outputId": "ff39de8a-706c-4048-815a-4777d59e3997"
      },
      "execution_count": null,
      "outputs": [
        {
          "output_type": "stream",
          "name": "stdout",
          "text": [
            "Rahim\n",
            "Karim\n",
            "Maria\n",
            "Tevez\n",
            "Dybala\n",
            "Martinez\n",
            "Otamendi\n"
          ]
        }
      ]
    },
    {
      "cell_type": "code",
      "source": [
        "#break\n",
        "for i in range(10):\n",
        "  if i==5:\n",
        "\n",
        "  print(i)"
      ],
      "metadata": {
        "colab": {
          "base_uri": "https://localhost:8080/"
        },
        "id": "KpTB237EUC6t",
        "outputId": "0560fa52-5626-4cda-dfaa-de991abbb41c"
      },
      "execution_count": null,
      "outputs": [
        {
          "output_type": "stream",
          "name": "stdout",
          "text": [
            "0\n",
            "1\n",
            "2\n",
            "3\n",
            "4\n"
          ]
        }
      ]
    },
    {
      "cell_type": "code",
      "source": [
        "#continue\n",
        "for i in range (10):\n",
        "  if i==5 or i==7:\n",
        "    continue\n",
        "  print(i)"
      ],
      "metadata": {
        "id": "AvDls7-dUOEs",
        "colab": {
          "base_uri": "https://localhost:8080/"
        },
        "outputId": "5e14f2f1-a655-4377-9d6e-60f9635e9a6b"
      },
      "execution_count": null,
      "outputs": [
        {
          "output_type": "stream",
          "name": "stdout",
          "text": [
            "0\n",
            "1\n",
            "2\n",
            "3\n",
            "4\n",
            "6\n",
            "8\n",
            "9\n"
          ]
        }
      ]
    },
    {
      "cell_type": "code",
      "source": [
        "#while loop\n",
        "i=0\n",
        "while i<10:\n",
        "  print(i)\n",
        "  i+=1\n",
        "print(\"end of loop\")\n",
        "\n",
        "\n",
        "\n",
        "\n"
      ],
      "metadata": {
        "colab": {
          "base_uri": "https://localhost:8080/"
        },
        "id": "dEXlE-RUXuFE",
        "outputId": "49b696de-df38-4d37-88d2-c9e1858c05da"
      },
      "execution_count": null,
      "outputs": [
        {
          "output_type": "stream",
          "name": "stdout",
          "text": [
            "0\n",
            "1\n",
            "2\n",
            "3\n",
            "4\n",
            "5\n",
            "6\n",
            "7\n",
            "8\n",
            "9\n",
            "end of loop\n"
          ]
        }
      ]
    },
    {
      "cell_type": "code",
      "source": [
        "l1=[1,3,4,5,77,6,8,9,10]\n",
        "l2=[]\n",
        "l3=[]\n",
        "for i in range(len(l1)):\n",
        "  if l1[i]%2==0:\n",
        "    l2.append(l1[i])\n",
        "    print(l2)\n",
        "    print(len(l2))\n",
        "  else:\n",
        "    l3.append(l1[i])\n",
        "    print(l3)\n",
        "    print(len(l3))\n",
        "\n"
      ],
      "metadata": {
        "colab": {
          "base_uri": "https://localhost:8080/"
        },
        "id": "j00dsLIzZBwj",
        "outputId": "fb6dd8e4-7ffa-4245-ee63-0d82382f1ba2"
      },
      "execution_count": null,
      "outputs": [
        {
          "output_type": "stream",
          "name": "stdout",
          "text": [
            "[1]\n",
            "1\n",
            "[1, 3]\n",
            "2\n",
            "[4]\n",
            "1\n",
            "[1, 3, 5]\n",
            "3\n",
            "[1, 3, 5, 77]\n",
            "4\n",
            "[4, 6]\n",
            "2\n",
            "[4, 6, 8]\n",
            "3\n",
            "[1, 3, 5, 77, 9]\n",
            "5\n",
            "[4, 6, 8, 10]\n",
            "4\n"
          ]
        }
      ]
    },
    {
      "cell_type": "code",
      "source": [
        "l1=[1,3,4,5,77,6,8,9,10]\n",
        "total_even=0\n",
        "total_odd=0\n",
        "\n",
        "for i in range(len(l1)):\n",
        "  if l1[i]%2==0:\n",
        "    total_even+=l1[i]\n",
        "\n",
        "    print(len(total_even))\n",
        "  else:\n",
        "    total_odd+=l1[i]\n",
        "    print(len(total_odd))\n"
      ],
      "metadata": {
        "colab": {
          "base_uri": "https://localhost:8080/",
          "height": 193
        },
        "id": "-Yf_KnhFaZ4K",
        "outputId": "e837daca-9a2a-4434-9fec-9f5600c2b9e9"
      },
      "execution_count": null,
      "outputs": [
        {
          "output_type": "error",
          "ename": "TypeError",
          "evalue": "object of type 'int' has no len()",
          "traceback": [
            "\u001b[0;31m---------------------------------------------------------------------------\u001b[0m",
            "\u001b[0;31mTypeError\u001b[0m                                 Traceback (most recent call last)",
            "\u001b[0;32m<ipython-input-9-e455e5b8140f>\u001b[0m in \u001b[0;36m<cell line: 5>\u001b[0;34m()\u001b[0m\n\u001b[1;32m     10\u001b[0m   \u001b[0;32melse\u001b[0m\u001b[0;34m:\u001b[0m\u001b[0;34m\u001b[0m\u001b[0;34m\u001b[0m\u001b[0m\n\u001b[1;32m     11\u001b[0m     \u001b[0mtotal_odd\u001b[0m\u001b[0;34m+=\u001b[0m\u001b[0ml1\u001b[0m\u001b[0;34m[\u001b[0m\u001b[0mi\u001b[0m\u001b[0;34m]\u001b[0m\u001b[0;34m\u001b[0m\u001b[0;34m\u001b[0m\u001b[0m\n\u001b[0;32m---> 12\u001b[0;31m     \u001b[0mprint\u001b[0m\u001b[0;34m(\u001b[0m\u001b[0mlen\u001b[0m\u001b[0;34m(\u001b[0m\u001b[0mtotal_odd\u001b[0m\u001b[0;34m)\u001b[0m\u001b[0;34m)\u001b[0m\u001b[0;34m\u001b[0m\u001b[0;34m\u001b[0m\u001b[0m\n\u001b[0m\u001b[1;32m     13\u001b[0m \u001b[0;34m\u001b[0m\u001b[0m\n",
            "\u001b[0;31mTypeError\u001b[0m: object of type 'int' has no len()"
          ]
        }
      ]
    },
    {
      "cell_type": "code",
      "source": [
        "def my_factorial(n):\n",
        "  if n==0:\n",
        "    return 1\n",
        "  else:\n",
        "    return n*my_factorial(n-1)\n",
        "print(my_factorial(5))\n",
        "\n",
        "\n",
        "\n"
      ],
      "metadata": {
        "colab": {
          "base_uri": "https://localhost:8080/"
        },
        "id": "KKQ5CjE9bjGL",
        "outputId": "0f8d94d4-f793-4177-ebc8-f63609058583"
      },
      "execution_count": null,
      "outputs": [
        {
          "output_type": "stream",
          "name": "stdout",
          "text": [
            "120\n"
          ]
        }
      ]
    },
    {
      "cell_type": "code",
      "source": [
        "n=5\n",
        "fact=1\n",
        "for i in range(1,n+1):\n",
        "  fact*=i\n",
        "print(fact)"
      ],
      "metadata": {
        "colab": {
          "base_uri": "https://localhost:8080/"
        },
        "id": "sZenUdH9cVvl",
        "outputId": "cbdb88cb-9a3f-492b-c852-fc115813e719"
      },
      "execution_count": null,
      "outputs": [
        {
          "output_type": "stream",
          "name": "stdout",
          "text": [
            "120\n"
          ]
        }
      ]
    },
    {
      "cell_type": "code",
      "source": [
        "l1=[0,1]\n",
        "n=8\n",
        "for i in range(n-2):\n",
        "  l1.append(l1[i]+l1[i+1])\n",
        "  print(l1)\n",
        "print(l1)\n",
        "\n"
      ],
      "metadata": {
        "colab": {
          "base_uri": "https://localhost:8080/"
        },
        "id": "qmjkTK2RcixR",
        "outputId": "f38b3d73-bb9b-4a38-baa2-b4659c6818a6"
      },
      "execution_count": null,
      "outputs": [
        {
          "output_type": "stream",
          "name": "stdout",
          "text": [
            "[0, 1, 1]\n",
            "[0, 1, 1, 2]\n",
            "[0, 1, 1, 2, 3]\n",
            "[0, 1, 1, 2, 3, 5]\n",
            "[0, 1, 1, 2, 3, 5, 8]\n",
            "[0, 1, 1, 2, 3, 5, 8, 13]\n",
            "[0, 1, 1, 2, 3, 5, 8, 13]\n"
          ]
        }
      ]
    },
    {
      "cell_type": "code",
      "source": [
        "l1=[0,1]\n",
        "n=8\n",
        "for i in range(2,8):\n",
        "  l1.append(l1[i-1]+l1[i-2])\n",
        "  print(l1)\n",
        "print(l1)"
      ],
      "metadata": {
        "colab": {
          "base_uri": "https://localhost:8080/"
        },
        "id": "CugnJDp1demI",
        "outputId": "c298cd9a-2d64-4433-e52b-93046030296f"
      },
      "execution_count": null,
      "outputs": [
        {
          "output_type": "stream",
          "name": "stdout",
          "text": [
            "[0, 1, 1]\n",
            "[0, 1, 1, 2]\n",
            "[0, 1, 1, 2, 3]\n",
            "[0, 1, 1, 2, 3, 5]\n",
            "[0, 1, 1, 2, 3, 5, 8]\n",
            "[0, 1, 1, 2, 3, 5, 8, 13]\n",
            "[0, 1, 1, 2, 3, 5, 8, 13]\n"
          ]
        }
      ]
    },
    {
      "cell_type": "code",
      "source": [
        "n=int(input(\"enter a number:\"))\n",
        "sum=0\n",
        "i=1\n",
        "while i<=n:\n",
        "  sum+=i\n",
        "  i+=1\n",
        "\n",
        "print(sum)"
      ],
      "metadata": {
        "colab": {
          "base_uri": "https://localhost:8080/"
        },
        "id": "xAkG4wUafvct",
        "outputId": "0ef4f219-f9b7-4096-e1e3-849b4320eb2a"
      },
      "execution_count": null,
      "outputs": [
        {
          "output_type": "stream",
          "name": "stdout",
          "text": [
            "enter a number:4\n",
            "10\n"
          ]
        }
      ]
    },
    {
      "cell_type": "code",
      "source": [
        "n=int(input(\"enter a number:\"))\n",
        "sum=0\n",
        "for i in range(1,n+1):\n",
        "  sum+=i\n",
        "print(sum)"
      ],
      "metadata": {
        "colab": {
          "base_uri": "https://localhost:8080/"
        },
        "id": "XBiytTlLgspv",
        "outputId": "3328ab8c-67cf-4bf9-fa85-f695f121de1a"
      },
      "execution_count": null,
      "outputs": [
        {
          "output_type": "stream",
          "name": "stdout",
          "text": [
            "enter a number:4\n",
            "14\n"
          ]
        }
      ]
    },
    {
      "cell_type": "code",
      "source": [
        "n=int(input(\"enter a number:\"))\n",
        "sum=0\n",
        "i=1\n",
        "while i<=n*2:\n",
        "   sum+=i\n",
        "   i+=2\n",
        "   print(i)\n",
        "print(sum)\n",
        "\n"
      ],
      "metadata": {
        "colab": {
          "base_uri": "https://localhost:8080/"
        },
        "id": "E9reJuS5hloy",
        "outputId": "80630c12-373d-428b-c594-b0c3a9735dc6"
      },
      "execution_count": null,
      "outputs": [
        {
          "output_type": "stream",
          "name": "stdout",
          "text": [
            "enter a number:3\n",
            "3\n",
            "5\n",
            "7\n",
            "9\n"
          ]
        }
      ]
    },
    {
      "cell_type": "code",
      "source": [
        "n=int(input(\"enter a number:\"))\n",
        "sum=0\n",
        "for i in range(1,n*3+1):\n",
        "  if (i+1)%3==0:\n",
        "    sum+=i+1\n",
        "print(sum)"
      ],
      "metadata": {
        "colab": {
          "base_uri": "https://localhost:8080/"
        },
        "id": "rVotKR9Eh8aF",
        "outputId": "14c9731e-7b85-47d3-9363-59e22f461d3c"
      },
      "execution_count": null,
      "outputs": [
        {
          "output_type": "stream",
          "name": "stdout",
          "text": [
            "enter a number:4\n",
            "30\n"
          ]
        }
      ]
    },
    {
      "cell_type": "code",
      "source": [
        "sum=0\n",
        "for i in range(1,6,2):\n",
        "  sum+=i\n",
        "print(sum)\n"
      ],
      "metadata": {
        "colab": {
          "base_uri": "https://localhost:8080/"
        },
        "id": "jvpdiGzQiX6J",
        "outputId": "2b402930-dcf8-4165-e956-f007de0de288"
      },
      "execution_count": null,
      "outputs": [
        {
          "output_type": "stream",
          "name": "stdout",
          "text": [
            "9\n"
          ]
        }
      ]
    },
    {
      "cell_type": "code",
      "source": [
        "names=[\"rahim\",\"ronaldo\",\"messi\"]\n",
        "for name in names:\n",
        "  print(name)"
      ],
      "metadata": {
        "colab": {
          "base_uri": "https://localhost:8080/"
        },
        "id": "pTDVxqV6jejT",
        "outputId": "3946e7bd-393d-4a8d-ee9c-e20f84d30e02"
      },
      "execution_count": null,
      "outputs": [
        {
          "output_type": "stream",
          "name": "stdout",
          "text": [
            "rahim\n",
            "ronaldo\n",
            "messi\n"
          ]
        }
      ]
    },
    {
      "cell_type": "code",
      "source": [
        "l1=[1,3,5,6,7,19,13,10]\n",
        "\n",
        "for i in range(len(l1)-1):\n",
        "  if l1[i]>l1[i+1]:\n",
        "    print(\"the biggest number is:\",l1[i])\n",
        "\n",
        "  else:\n",
        "    print(\"the biggest number is:\",l1[i+1])\n",
        "\n",
        "\n",
        "\n",
        "\n",
        "\n",
        "\n",
        "\n"
      ],
      "metadata": {
        "colab": {
          "base_uri": "https://localhost:8080/"
        },
        "id": "AHLVJweVjhSW",
        "outputId": "02781108-b044-4c62-959b-1cbb257771d4"
      },
      "execution_count": null,
      "outputs": [
        {
          "output_type": "stream",
          "name": "stdout",
          "text": [
            "the biggest number is: 3\n",
            "the biggest number is: 5\n",
            "the biggest number is: 6\n",
            "the biggest number is: 7\n",
            "the biggest number is: 19\n",
            "the biggest number is: 19\n",
            "the biggest number is: 13\n"
          ]
        }
      ]
    },
    {
      "cell_type": "code",
      "source": [
        "#recursion"
      ],
      "metadata": {
        "id": "3yIRu8B5kzSx"
      },
      "execution_count": null,
      "outputs": []
    },
    {
      "cell_type": "code",
      "source": [
        "#switch statement\n",
        "number=float(input(\"enter a number:\"))\n",
        "number= number%3\n",
        "\n",
        "match number:\n",
        "  case 0 :\n",
        "    print(\"Divisible by 3\")\n",
        "  case 1 :\n",
        "    print(\"reminder is 1 when divide by 3\")\n",
        "  case 2 :\n",
        "    print(\"reminder is 2 when divide by 3\")\n",
        "  case default:\n",
        "    print(\"invalid\")"
      ],
      "metadata": {
        "colab": {
          "base_uri": "https://localhost:8080/"
        },
        "id": "n-bStxZ3n1ZM",
        "outputId": "c917ce7b-89de-4e71-95a7-6e970572d40c"
      },
      "execution_count": null,
      "outputs": [
        {
          "output_type": "stream",
          "name": "stdout",
          "text": [
            "enter a number:29.5\n",
            "invalid\n"
          ]
        }
      ]
    },
    {
      "cell_type": "code",
      "source": [
        "#fibonacci\n",
        "\n",
        "def fibonacci(n):\n",
        "  list1=[0,1]\n",
        "  for i in range(n-2):\n",
        "     list1.append(list1[i]+list1[i+1])\n",
        "     print(list1)\n",
        "     return list1\n",
        "\n",
        "\n",
        "\n",
        "n= int(input(\"enter a number:\"))\n",
        "answer=fibonacci(n)\n",
        "print(answer)"
      ],
      "metadata": {
        "id": "lrIMKRMopoMD",
        "colab": {
          "base_uri": "https://localhost:8080/"
        },
        "outputId": "7019f69f-9176-4476-893d-54bc35457065"
      },
      "execution_count": null,
      "outputs": [
        {
          "output_type": "stream",
          "name": "stdout",
          "text": [
            "enter a number:6\n",
            "[0, 1, 1]\n",
            "[0, 1, 1]\n"
          ]
        }
      ]
    },
    {
      "cell_type": "code",
      "source": [
        "def calculate(a, b):\n",
        "    sum_ = a + b\n",
        "    difference = a - b\n",
        "    return sum_, difference\n",
        "\n",
        "result = calculate(10, 5)\n",
        "print(result)"
      ],
      "metadata": {
        "id": "oPDkN_LP0agk",
        "colab": {
          "base_uri": "https://localhost:8080/"
        },
        "outputId": "6d799841-7b37-4530-a190-1051a234219f"
      },
      "execution_count": null,
      "outputs": [
        {
          "output_type": "stream",
          "name": "stdout",
          "text": [
            "(15, 5)\n"
          ]
        }
      ]
    },
    {
      "cell_type": "code",
      "source": [
        "def calculate (x,y):\n",
        "  sum_=x+y\n",
        "  difference=x-y\n",
        "  division=x/y\n",
        "  multiplication=x*y\n",
        "  return sum_,difference,division,multiplication\n",
        "result=calculate(10,5)\n",
        "print(result)\n"
      ],
      "metadata": {
        "colab": {
          "base_uri": "https://localhost:8080/"
        },
        "id": "BrSBSNb3OxJ-",
        "outputId": "a9bafaa2-1593-4f54-a42b-c99b1a77bc5b"
      },
      "execution_count": null,
      "outputs": [
        {
          "output_type": "stream",
          "name": "stdout",
          "text": [
            "(15, 5, 2.0, 50)\n"
          ]
        }
      ]
    },
    {
      "cell_type": "code",
      "source": [
        "def random(*args):\n",
        "  print(type(args), args)\n",
        "  print(args[0])\n",
        "  print(args[1])\n",
        "\n",
        "  return args[2:]\n",
        "\n",
        "xyz = random(\"a\", 1, 2345,[\"asd\"])\n",
        "print(\"xyz: \", xyz)"
      ],
      "metadata": {
        "colab": {
          "base_uri": "https://localhost:8080/"
        },
        "id": "yHLCeQ0MPEWx",
        "outputId": "cbcb41cb-d8b6-46ee-999f-dc9d64f5b1a9"
      },
      "execution_count": null,
      "outputs": [
        {
          "output_type": "stream",
          "name": "stdout",
          "text": [
            "<class 'tuple'> ('a', 1, 2345, ['asd'])\n",
            "a\n",
            "1\n",
            "xyz:  (2345, ['asd'])\n"
          ]
        }
      ]
    },
    {
      "cell_type": "code",
      "source": [
        "def factorial(n):\n",
        "  if n==0:\n",
        "    return 1\n",
        "  else :\n",
        "    return n*factorial(n-1)\n",
        "n=int(input(\"enter a number:\"))#\n",
        "print(factorial(n))"
      ],
      "metadata": {
        "colab": {
          "base_uri": "https://localhost:8080/"
        },
        "id": "d4OJVW1JPTLj",
        "outputId": "6717e370-55a9-4bd4-e315-1cb480f10840"
      },
      "execution_count": null,
      "outputs": [
        {
          "output_type": "stream",
          "name": "stdout",
          "text": [
            "enter a number:5\n",
            "120\n"
          ]
        }
      ]
    },
    {
      "cell_type": "code",
      "source": [
        "#\n",
        "from decimal import Decimal, getcontext\n",
        "\n",
        "getcontext().prec = 8  # Set precision to 5\n",
        "y = Decimal(1) / Decimal(7)\n",
        "print(y)  # Output: 0.14286\n",
        "\n",
        "z = 1 / 7\n",
        "print(z)"
      ],
      "metadata": {
        "id": "w0sFk3x9psfr",
        "colab": {
          "base_uri": "https://localhost:8080/"
        },
        "outputId": "46f12625-68ee-423a-ed07-893e6f127d4a"
      },
      "execution_count": null,
      "outputs": [
        {
          "output_type": "stream",
          "name": "stdout",
          "text": [
            "0.14285714\n",
            "0.14285714285714285\n"
          ]
        }
      ]
    },
    {
      "cell_type": "code",
      "source": [
        "n=int(input(\"enter a number:\"))\n",
        "l1=[]\n",
        "for i in range(n):\n",
        "    e=int(input(\"enter a number:\"))\n",
        "    l1.append(e)\n",
        "    max = l1[0]\n",
        "index = 0\n",
        "for i in range(len(l1)):\n",
        "  if l1[i] > max:\n",
        "    max = e\n",
        "    index = i\n",
        "\n",
        "print(f\"Max value is {max}\")\n",
        "\n"
      ],
      "metadata": {
        "colab": {
          "base_uri": "https://localhost:8080/"
        },
        "id": "raVZnSb6PJqJ",
        "outputId": "4819b726-5c94-4f6d-9766-28b01f68f010"
      },
      "execution_count": null,
      "outputs": [
        {
          "output_type": "stream",
          "name": "stdout",
          "text": [
            "enter a number:5\n",
            "enter a number:7\n",
            "enter a number:4\n",
            "enter a number:6\n",
            "enter a number:4\n",
            "enter a number:10\n",
            "Max value is 10\n"
          ]
        }
      ]
    },
    {
      "cell_type": "code",
      "source": [
        "!ls\n"
      ],
      "metadata": {
        "colab": {
          "base_uri": "https://localhost:8080/"
        },
        "id": "cPfJ_YGfRCb3",
        "outputId": "27246c02-2eef-4cd3-8f38-382d741f28e3"
      },
      "execution_count": null,
      "outputs": [
        {
          "output_type": "stream",
          "name": "stdout",
          "text": [
            "sample_data\n"
          ]
        }
      ]
    },
    {
      "cell_type": "code",
      "source": [
        "print(\"before try block\")\n",
        "\n",
        "try:\n",
        "  print(\"inside try block\")\n",
        "  value=4\n",
        "  print(val)\n",
        "  print(\"try block ended\")\n",
        "except:\n",
        "  print(\"inside except block\")"
      ],
      "metadata": {
        "colab": {
          "base_uri": "https://localhost:8080/"
        },
        "id": "Sbozg7x5TqWW",
        "outputId": "e76b54c6-ede7-40f2-dc74-5dd7ddca93ab"
      },
      "execution_count": null,
      "outputs": [
        {
          "output_type": "stream",
          "name": "stdout",
          "text": [
            "before try block\n",
            "inside try block\n",
            "inside except block\n"
          ]
        }
      ]
    },
    {
      "cell_type": "code",
      "source": [
        "#lambda\n",
        "add= lambda x,y:x+y\n",
        "calculation = lambda x,y:[x+y,x-y,x*y,x/y]\n",
        "print(add(2,3))\n",
        "print(calculation(6,7))"
      ],
      "metadata": {
        "colab": {
          "base_uri": "https://localhost:8080/"
        },
        "id": "kpWz6_eGVSJ7",
        "outputId": "73ee6663-25c8-4df2-f315-8cdf6df5b68c"
      },
      "execution_count": null,
      "outputs": [
        {
          "output_type": "stream",
          "name": "stdout",
          "text": [
            "5\n",
            "[13, -1, 42, 0.8571428571428571]\n"
          ]
        }
      ]
    },
    {
      "cell_type": "code",
      "source": [
        "#Map\n",
        "\n",
        "def to_square(a):\n",
        "  print(f\"to_square called with {a}\")\n",
        "  return a*a\n",
        "numbers=[1,2,3,4,5]\n",
        "squared_numbers= map(to_square,numbers)\n",
        "print(squared_numbers)\n",
        "print(list(squared_numbers))\n",
        "print(set(squared_numbers))\n",
        "print(tuple(squared_numbers))"
      ],
      "metadata": {
        "colab": {
          "base_uri": "https://localhost:8080/"
        },
        "id": "TyU_XSVsXmIT",
        "outputId": "5adbfa0e-cef3-48f9-d21d-0d520d787644"
      },
      "execution_count": null,
      "outputs": [
        {
          "output_type": "stream",
          "name": "stdout",
          "text": [
            "<map object at 0x7dac1fec0e50>\n",
            "to_square called with 1\n",
            "to_square called with 2\n",
            "to_square called with 3\n",
            "to_square called with 4\n",
            "to_square called with 5\n",
            "[1, 4, 9, 16, 25]\n",
            "set()\n",
            "()\n"
          ]
        }
      ]
    },
    {
      "cell_type": "code",
      "source": [
        "numbers=[1,2,3,4,5]\n",
        "squared_numbers=map(lambda a:a**2,numbers)\n",
        "print(list(squared_numbers))"
      ],
      "metadata": {
        "colab": {
          "base_uri": "https://localhost:8080/"
        },
        "id": "tcs5lxpbZ1xR",
        "outputId": "a9679cf9-166a-47dc-a54b-bc8c1369af64"
      },
      "execution_count": null,
      "outputs": [
        {
          "output_type": "stream",
          "name": "stdout",
          "text": [
            "[1, 4, 9, 16, 25]\n"
          ]
        }
      ]
    },
    {
      "cell_type": "code",
      "source": [
        "list_a=[1,3,5,7]\n",
        "list_b=[2,4,6,8]\n",
        "result=list(map(lambda x,y:x*y,list_a,list_b))\n",
        "print(list(result))\n",
        "\n",
        "print(result)"
      ],
      "metadata": {
        "colab": {
          "base_uri": "https://localhost:8080/"
        },
        "id": "t6OhQ8DObwcQ",
        "outputId": "f32c0a66-b0a8-45fb-ff1e-5fb41621c05b"
      },
      "execution_count": null,
      "outputs": [
        {
          "output_type": "stream",
          "name": "stdout",
          "text": [
            "[4, 18, 40]\n",
            "[4, 18, 40]\n"
          ]
        }
      ]
    },
    {
      "cell_type": "code",
      "source": [
        "list_names=[\"Rahim\",\"John\",\"paulo\",\"Ibrahimovic\"]\n",
        "\n",
        "result=list(map(lambda x:len(x),list_names))\n",
        "print(result)\n"
      ],
      "metadata": {
        "colab": {
          "base_uri": "https://localhost:8080/"
        },
        "id": "Hu8CiJ8HcWFs",
        "outputId": "6da9176a-3068-4b19-b099-1767d93324f1"
      },
      "execution_count": null,
      "outputs": [
        {
          "output_type": "stream",
          "name": "stdout",
          "text": [
            "[5, 4, 5, 11]\n"
          ]
        }
      ]
    },
    {
      "cell_type": "code",
      "source": [
        "#filter\n",
        "\n",
        "def even (a):\n",
        "  if a%2==0:\n",
        "    return True\n",
        "  else:\n",
        "    return False\n",
        "\n",
        "numbers=[1,2,3,4,5,6,7,8,9,10]\n",
        "even_numbers=filter(even,numbers)\n",
        "print(list(even_numbers))"
      ],
      "metadata": {
        "colab": {
          "base_uri": "https://localhost:8080/"
        },
        "id": "CECvD6MFdepu",
        "outputId": "6ad314c1-450a-421f-ee51-899dcd100ff7"
      },
      "execution_count": null,
      "outputs": [
        {
          "output_type": "stream",
          "name": "stdout",
          "text": [
            "[2, 4, 6, 8, 10]\n"
          ]
        }
      ]
    },
    {
      "cell_type": "code",
      "source": [
        "numbers=[1,2,3,4,5,6,7,8,9,10]\n",
        "even_numbers=filter(lambda a:a%2==0,numbers)\n",
        "print(list(even_numbers))"
      ],
      "metadata": {
        "colab": {
          "base_uri": "https://localhost:8080/"
        },
        "id": "Q6SKw5KlfPv_",
        "outputId": "2ca85e12-7869-4ab6-c5a4-ac9cf604484b"
      },
      "execution_count": null,
      "outputs": [
        {
          "output_type": "stream",
          "name": "stdout",
          "text": [
            "[2, 4, 6, 8, 10]\n"
          ]
        }
      ]
    },
    {
      "cell_type": "code",
      "source": [
        "numbers=[1,2,3,4,5,6,7,8]\n",
        "even_number=list(filter(lambda x:x%2==0,numbers))\n",
        "print(list(even_number))"
      ],
      "metadata": {
        "colab": {
          "base_uri": "https://localhost:8080/"
        },
        "id": "9Ve2hxGgf9jC",
        "outputId": "4717c3f5-a731-41bb-93b2-c2e828d3a8ff"
      },
      "execution_count": null,
      "outputs": [
        {
          "output_type": "stream",
          "name": "stdout",
          "text": [
            "[2, 4, 6, 8]\n"
          ]
        }
      ]
    },
    {
      "cell_type": "code",
      "source": [
        "#reduce\n",
        "\n",
        "from functools import reduce\n",
        "\n",
        "numbers=[1,2,3,4,5]\n",
        "product=reduce(lambda x,y:x*y,numbers,10)\n",
        "print(product)"
      ],
      "metadata": {
        "colab": {
          "base_uri": "https://localhost:8080/"
        },
        "id": "QMKtO23TgSI-",
        "outputId": "1015c8e5-04ed-4d62-9f43-7968c1323fe4"
      },
      "execution_count": null,
      "outputs": [
        {
          "output_type": "stream",
          "name": "stdout",
          "text": [
            "1200\n"
          ]
        }
      ]
    },
    {
      "cell_type": "code",
      "source": [
        "\n",
        "#recursion\n",
        "\n",
        "def func(n):\n",
        "  if n==0:\n",
        "      return 0\n",
        "  else:\n",
        "      return n+func(n-1)\n",
        "func(5)"
      ],
      "metadata": {
        "colab": {
          "base_uri": "https://localhost:8080/"
        },
        "id": "TeBRp2chinzo",
        "outputId": "010f3410-b92e-4556-9923-0470c95c88cd"
      },
      "execution_count": null,
      "outputs": [
        {
          "output_type": "execute_result",
          "data": {
            "text/plain": [
              "15"
            ]
          },
          "metadata": {},
          "execution_count": 41
        }
      ]
    },
    {
      "cell_type": "code",
      "source": [
        "  def func(n):\n",
        "    print(n)\n",
        "    if n==0:\n",
        "      return 0\n",
        "    else :\n",
        "      return n+func(n-1)\n",
        "  ans= func(5)\n",
        "  print(ans)"
      ],
      "metadata": {
        "colab": {
          "base_uri": "https://localhost:8080/"
        },
        "id": "9c0YqCeflixz",
        "outputId": "2f169a3b-4960-4584-953b-7d9c34267849"
      },
      "execution_count": null,
      "outputs": [
        {
          "output_type": "stream",
          "name": "stdout",
          "text": [
            "5\n",
            "4\n",
            "3\n",
            "2\n",
            "1\n",
            "0\n",
            "15\n"
          ]
        }
      ]
    },
    {
      "cell_type": "code",
      "source": [
        "l1= [0,1]\n",
        "\n",
        "def func(n):\n",
        "  for i in range(n-2):\n",
        "    l1.append(l1[i]+l1[i+1])\n",
        "    print(l1)\n",
        "  return l1\n",
        "func(8)"
      ],
      "metadata": {
        "colab": {
          "base_uri": "https://localhost:8080/"
        },
        "id": "HzdvZzhem6iZ",
        "outputId": "5691ed12-dcda-444c-f143-a5f16b76f0ff"
      },
      "execution_count": null,
      "outputs": [
        {
          "output_type": "stream",
          "name": "stdout",
          "text": [
            "[0, 1, 1]\n",
            "[0, 1, 1, 2]\n",
            "[0, 1, 1, 2, 3]\n",
            "[0, 1, 1, 2, 3, 5]\n",
            "[0, 1, 1, 2, 3, 5, 8]\n",
            "[0, 1, 1, 2, 3, 5, 8, 13]\n"
          ]
        },
        {
          "output_type": "execute_result",
          "data": {
            "text/plain": [
              "[0, 1, 1, 2, 3, 5, 8, 13]"
            ]
          },
          "metadata": {},
          "execution_count": 45
        }
      ]
    },
    {
      "cell_type": "code",
      "source": [
        "def fibonaccci(n):\n",
        "  if n==0:\n",
        "    return 0\n",
        "  elif n==1:\n",
        "    return 1\n",
        "  else:\n",
        "    return fibonaccci(n-2)+fibonaccci(n-1)\n",
        "print(fibonaccci(5))\n"
      ],
      "metadata": {
        "colab": {
          "base_uri": "https://localhost:8080/"
        },
        "id": "qgSSd_EWojb_",
        "outputId": "e7d166e8-c987-46b4-e3c7-2045940aaf9a"
      },
      "execution_count": null,
      "outputs": [
        {
          "output_type": "stream",
          "name": "stdout",
          "text": [
            "5\n"
          ]
        }
      ]
    },
    {
      "cell_type": "code",
      "source": [
        "def fibonaccci(n):\n",
        "  if n<=1:\n",
        "    return n\n",
        "\n",
        "  else:\n",
        "    return fibonaccci(n-2)+fibonaccci(n-1)\n",
        "n=int(input(\"enter a number:\"))\n",
        "print(fibonaccci(n))"
      ],
      "metadata": {
        "colab": {
          "base_uri": "https://localhost:8080/"
        },
        "id": "V8S7W0-PpSlw",
        "outputId": "7b6ea1ba-6b5f-48a8-97e1-2dcb7d273835"
      },
      "execution_count": null,
      "outputs": [
        {
          "output_type": "stream",
          "name": "stdout",
          "text": [
            "enter a number:5\n",
            "5\n"
          ]
        }
      ]
    },
    {
      "cell_type": "code",
      "source": [],
      "metadata": {
        "id": "5VT47tEvsJHP"
      },
      "execution_count": null,
      "outputs": []
    }
  ]
}